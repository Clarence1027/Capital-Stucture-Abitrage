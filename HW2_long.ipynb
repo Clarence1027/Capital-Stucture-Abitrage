{
 "cells": [
  {
   "cell_type": "code",
   "execution_count": 176,
   "metadata": {},
   "outputs": [],
   "source": [
    "import pandas as pd\n",
    "import numpy as np\n",
    "from datetime import datetime\n",
    "import scipy\n",
    "from scipy.stats import norm\n",
    "from scipy.optimize import fsolve\n",
    "from scipy import interpolate"
   ]
  },
  {
   "cell_type": "markdown",
   "metadata": {},
   "source": [
    "Data\n",
    "---------"
   ]
  },
  {
   "cell_type": "code",
   "execution_count": 177,
   "metadata": {},
   "outputs": [],
   "source": [
    "# equity\n",
    "tsla = pd.read_csv(\"TSLA.csv\")\n",
    "tsla.columns = ['Date','Price','IV']\n",
    "tsla.index = tsla.Date.apply(pd.Timestamp)\n",
    "tsla = tsla[['Price','IV']]\n",
    "tsla = tsla.sort_index()"
   ]
  },
  {
   "cell_type": "code",
   "execution_count": 178,
   "metadata": {},
   "outputs": [],
   "source": [
    "# market cap and debt\n",
    "data = pd.read_csv(\"E_D.csv\")\n",
    "data.columns = ['Date','mkt_cap','debt_to_cap','debt']\n",
    "data.index = data.Date.apply(pd.Timestamp)\n",
    "data = data[['mkt_cap','debt']]\n",
    "data = data.sort_index()"
   ]
  },
  {
   "cell_type": "code",
   "execution_count": 179,
   "metadata": {},
   "outputs": [],
   "source": [
    "# tsla cds data\n",
    "cds = pd.read_csv(\"tsla_cds.csv\")\n",
    "cds.columns = ['Date','cds_spd']\n",
    "cds.index = cds.Date.apply(pd.Timestamp)\n",
    "cds = cds[['cds_spd']]\n",
    "cds = cds.sort_index()"
   ]
  },
  {
   "cell_type": "code",
   "execution_count": 180,
   "metadata": {},
   "outputs": [],
   "source": [
    "cmt = pd.read_csv(\"cmt.csv\")\n",
    "cmt.index = cmt.Date.apply(pd.Timestamp)\n",
    "cmt = cmt.iloc[:,1:]\n",
    "cmt = cmt.sort_index()"
   ]
  },
  {
   "cell_type": "code",
   "execution_count": 181,
   "metadata": {},
   "outputs": [],
   "source": [
    "sw_curve = pd.read_csv(\"swap_fix_rate.csv\")\n",
    "sw_curve.index = sw_curve.Date.apply(pd.Timestamp)\n",
    "sw_curve = sw_curve.iloc[:,1:]\n",
    "sw_curve = sw_curve.sort_index()"
   ]
  },
  {
   "cell_type": "markdown",
   "metadata": {},
   "source": [
    "Model Define\n",
    "-----------"
   ]
  },
  {
   "cell_type": "code",
   "execution_count": 182,
   "metadata": {},
   "outputs": [],
   "source": [
    "# def bs model for call option\n",
    "def BScall(S, K, T, r, sigma):\n",
    "    #S: spot price\n",
    "    #K: strike price\n",
    "    #T: time to maturity\n",
    "    #r: interest rate\n",
    "    #sigma: volatility of underlying asset\n",
    "    \n",
    "    d1 = (np.log(S / K) + (r + 0.5 * sigma ** 2) * T) / (sigma * np.sqrt(T))\n",
    "    d2 = (np.log(S / K) + (r - 0.5 * sigma ** 2) * T) / (sigma * np.sqrt(T))\n",
    "    \n",
    "    call = (S *norm.cdf(d1) - K * np.exp(-r * T) * norm.cdf(d2))\n",
    "    return call\n",
    "\n",
    "# def survival prob by credit grades model\n",
    "def Q(E,A,sig_a,t):\n",
    "    xi = E/A\n",
    "    lam = 0.3\n",
    "    B = np.sqrt(sig_a**2*xi**2*t+lam**2)\n",
    "    d = 1/(1-xi)*np.exp(lam**2)\n",
    "    return norm.cdf(-B/2+np.log(d)/B) - d*norm.cdf(-B/2-np.log(d)/B)"
   ]
  },
  {
   "cell_type": "markdown",
   "metadata": {},
   "source": [
    "Calculate A, A_sig via KVM model\n",
    "-----------"
   ]
  },
  {
   "cell_type": "code",
   "execution_count": 183,
   "metadata": {},
   "outputs": [],
   "source": [
    "# calculate A_value, A_sig via KMV model\n",
    "df = cds.copy()\n",
    "df['T'] = 5\n",
    "df = df.join(data,on='Date',how='inner')\n",
    "df = df.join(tsla.IV,on='Date',how='inner')\n",
    "df = df.join(sw_curve['5Y'],on='Date',how='inner')"
   ]
  },
  {
   "cell_type": "code",
   "execution_count": 184,
   "metadata": {},
   "outputs": [],
   "source": [
    "def KMV(x):\n",
    "    tao = x[1]\n",
    "    E = x[2]\n",
    "    D = x[3]\n",
    "    sig_e = x[4]/100\n",
    "    rf = x[5]/100\n",
    "    def func(x1):\n",
    "        # x1[0]: asset value\n",
    "        # x1[1]: asset vol\n",
    "        call = BScall(x1[0],D,tao,rf,x1[1])\n",
    "        d1 = (np.log(x1[0] / D) + (rf + 0.5 * x1[1] ** 2) * tao) / (x1[1] * np.sqrt(tao))\n",
    "        return [call-E,x1[0]/E*norm.cdf(d1)*x1[1]-sig_e]\n",
    "    return fsolve(func, [E+D,sig_e])"
   ]
  },
  {
   "cell_type": "code",
   "execution_count": 185,
   "metadata": {},
   "outputs": [],
   "source": [
    "kmv_res = df.apply(KMV,axis=1,result_type = 'expand')\n",
    "kmv_res.columns = ['A','A_sig']"
   ]
  },
  {
   "cell_type": "code",
   "execution_count": 186,
   "metadata": {},
   "outputs": [
    {
     "data": {
      "text/html": [
       "<div>\n",
       "<style scoped>\n",
       "    .dataframe tbody tr th:only-of-type {\n",
       "        vertical-align: middle;\n",
       "    }\n",
       "\n",
       "    .dataframe tbody tr th {\n",
       "        vertical-align: top;\n",
       "    }\n",
       "\n",
       "    .dataframe thead th {\n",
       "        text-align: right;\n",
       "    }\n",
       "</style>\n",
       "<table border=\"1\" class=\"dataframe\">\n",
       "  <thead>\n",
       "    <tr style=\"text-align: right;\">\n",
       "      <th></th>\n",
       "      <th>A</th>\n",
       "      <th>A_sig</th>\n",
       "    </tr>\n",
       "    <tr>\n",
       "      <th>Date</th>\n",
       "      <th></th>\n",
       "      <th></th>\n",
       "    </tr>\n",
       "  </thead>\n",
       "  <tbody>\n",
       "    <tr>\n",
       "      <th>2019-11-22</th>\n",
       "      <td>73483.802702</td>\n",
       "      <td>0.307351</td>\n",
       "    </tr>\n",
       "    <tr>\n",
       "      <th>2019-11-25</th>\n",
       "      <td>74090.016201</td>\n",
       "      <td>0.299468</td>\n",
       "    </tr>\n",
       "    <tr>\n",
       "      <th>2019-11-26</th>\n",
       "      <td>72784.142281</td>\n",
       "      <td>0.274450</td>\n",
       "    </tr>\n",
       "    <tr>\n",
       "      <th>2019-11-27</th>\n",
       "      <td>73181.360614</td>\n",
       "      <td>0.272154</td>\n",
       "    </tr>\n",
       "    <tr>\n",
       "      <th>2019-11-29</th>\n",
       "      <td>72924.205987</td>\n",
       "      <td>0.288791</td>\n",
       "    </tr>\n",
       "  </tbody>\n",
       "</table>\n",
       "</div>"
      ],
      "text/plain": [
       "                       A     A_sig\n",
       "Date                              \n",
       "2019-11-22  73483.802702  0.307351\n",
       "2019-11-25  74090.016201  0.299468\n",
       "2019-11-26  72784.142281  0.274450\n",
       "2019-11-27  73181.360614  0.272154\n",
       "2019-11-29  72924.205987  0.288791"
      ]
     },
     "execution_count": 186,
     "metadata": {},
     "output_type": "execute_result"
    }
   ],
   "source": [
    "kmv_res.head()"
   ]
  },
  {
   "cell_type": "markdown",
   "metadata": {},
   "source": [
    "Calculate CDS spd via Credit Grades model\n",
    "--------------"
   ]
  },
  {
   "cell_type": "code",
   "execution_count": 187,
   "metadata": {
    "scrolled": true
   },
   "outputs": [],
   "source": [
    "def CreditGrades(x):\n",
    "    A = x[0]\n",
    "    E = x[2]\n",
    "    sig_a = x[1]\n",
    "    \n",
    "    #\n",
    "    tr = np.array([0,1/12,2/12,3/12,6/12,1,2,3,4,5])*4\n",
    "    y_cmt = list(cmt.loc[x.name])\n",
    "    y_swap = list(sw_curve.loc[x.name])\n",
    "    yields = np.array([0]+y_cmt[:5]+y_swap)/4\n",
    "    interp = interpolate.interp1d(tr, yields, bounds_error=False, fill_value=0,kind='linear')\n",
    "    \n",
    "    # calcualte cds spd\n",
    "    r = 0.4\n",
    "    q = 1\n",
    "    count1 = 0\n",
    "    count2 = 0\n",
    "    for t in np.arange(0,5,0.25)+0.25:\n",
    "        disf = 1/(1+float(interp(t*4))/100)**t\n",
    "        q_new = Q(E,A,sig_a,t)\n",
    "        # print(q,q_new)\n",
    "        count1 += disf*(q-q_new)\n",
    "        q = q_new\n",
    "        count2 += disf*q\n",
    "    return count1/count2*(1-r)*4*10000"
   ]
  },
  {
   "cell_type": "code",
   "execution_count": 188,
   "metadata": {},
   "outputs": [],
   "source": [
    "cds_spd = pd.DataFrame(df2.apply(CreditGrades,axis=1,result_type='expand'))\n",
    "cds_spd.columns = ['cds_prd']"
   ]
  },
  {
   "cell_type": "code",
   "execution_count": 189,
   "metadata": {},
   "outputs": [],
   "source": [
    "res2 = cds.join(cds_spd,on='Date',how='inner')\n",
    "res2['diff'] = res2['cds_prd']-res2['cds_spd']"
   ]
  },
  {
   "cell_type": "code",
   "execution_count": 190,
   "metadata": {},
   "outputs": [
    {
     "data": {
      "text/html": [
       "<div>\n",
       "<style scoped>\n",
       "    .dataframe tbody tr th:only-of-type {\n",
       "        vertical-align: middle;\n",
       "    }\n",
       "\n",
       "    .dataframe tbody tr th {\n",
       "        vertical-align: top;\n",
       "    }\n",
       "\n",
       "    .dataframe thead th {\n",
       "        text-align: right;\n",
       "    }\n",
       "</style>\n",
       "<table border=\"1\" class=\"dataframe\">\n",
       "  <thead>\n",
       "    <tr style=\"text-align: right;\">\n",
       "      <th></th>\n",
       "      <th>cds_spd</th>\n",
       "      <th>cds_prd</th>\n",
       "      <th>diff</th>\n",
       "    </tr>\n",
       "    <tr>\n",
       "      <th>Date</th>\n",
       "      <th></th>\n",
       "      <th></th>\n",
       "      <th></th>\n",
       "    </tr>\n",
       "  </thead>\n",
       "  <tbody>\n",
       "    <tr>\n",
       "      <th>2019-11-22</th>\n",
       "      <td>296.985</td>\n",
       "      <td>13.908325</td>\n",
       "      <td>-283.076675</td>\n",
       "    </tr>\n",
       "    <tr>\n",
       "      <th>2019-11-25</th>\n",
       "      <td>284.520</td>\n",
       "      <td>11.381742</td>\n",
       "      <td>-273.138258</td>\n",
       "    </tr>\n",
       "    <tr>\n",
       "      <th>2019-11-26</th>\n",
       "      <td>275.000</td>\n",
       "      <td>6.501307</td>\n",
       "      <td>-268.498693</td>\n",
       "    </tr>\n",
       "    <tr>\n",
       "      <th>2019-11-27</th>\n",
       "      <td>282.480</td>\n",
       "      <td>5.937569</td>\n",
       "      <td>-276.542431</td>\n",
       "    </tr>\n",
       "    <tr>\n",
       "      <th>2019-11-29</th>\n",
       "      <td>292.330</td>\n",
       "      <td>9.254006</td>\n",
       "      <td>-283.075994</td>\n",
       "    </tr>\n",
       "    <tr>\n",
       "      <th>...</th>\n",
       "      <td>...</td>\n",
       "      <td>...</td>\n",
       "      <td>...</td>\n",
       "    </tr>\n",
       "    <tr>\n",
       "      <th>2020-11-16</th>\n",
       "      <td>173.110</td>\n",
       "      <td>26.618042</td>\n",
       "      <td>-146.491958</td>\n",
       "    </tr>\n",
       "    <tr>\n",
       "      <th>2020-11-17</th>\n",
       "      <td>170.600</td>\n",
       "      <td>68.693007</td>\n",
       "      <td>-101.906993</td>\n",
       "    </tr>\n",
       "    <tr>\n",
       "      <th>2020-11-18</th>\n",
       "      <td>170.620</td>\n",
       "      <td>108.532876</td>\n",
       "      <td>-62.087124</td>\n",
       "    </tr>\n",
       "    <tr>\n",
       "      <th>2020-11-19</th>\n",
       "      <td>167.530</td>\n",
       "      <td>157.098618</td>\n",
       "      <td>-10.431382</td>\n",
       "    </tr>\n",
       "    <tr>\n",
       "      <th>2020-11-20</th>\n",
       "      <td>166.610</td>\n",
       "      <td>112.535335</td>\n",
       "      <td>-54.074665</td>\n",
       "    </tr>\n",
       "  </tbody>\n",
       "</table>\n",
       "<p>250 rows × 3 columns</p>\n",
       "</div>"
      ],
      "text/plain": [
       "            cds_spd     cds_prd        diff\n",
       "Date                                       \n",
       "2019-11-22  296.985   13.908325 -283.076675\n",
       "2019-11-25  284.520   11.381742 -273.138258\n",
       "2019-11-26  275.000    6.501307 -268.498693\n",
       "2019-11-27  282.480    5.937569 -276.542431\n",
       "2019-11-29  292.330    9.254006 -283.075994\n",
       "...             ...         ...         ...\n",
       "2020-11-16  173.110   26.618042 -146.491958\n",
       "2020-11-17  170.600   68.693007 -101.906993\n",
       "2020-11-18  170.620  108.532876  -62.087124\n",
       "2020-11-19  167.530  157.098618  -10.431382\n",
       "2020-11-20  166.610  112.535335  -54.074665\n",
       "\n",
       "[250 rows x 3 columns]"
      ]
     },
     "execution_count": 190,
     "metadata": {},
     "output_type": "execute_result"
    }
   ],
   "source": [
    "res2"
   ]
  },
  {
   "cell_type": "code",
   "execution_count": 191,
   "metadata": {},
   "outputs": [
    {
     "data": {
      "text/plain": [
       "<AxesSubplot:xlabel='Date'>"
      ]
     },
     "execution_count": 191,
     "metadata": {},
     "output_type": "execute_result"
    },
    {
     "data": {
      "image/png": "[encoded data removed]",
      "text/plain": [
       "<Figure size 432x288 with 1 Axes>"
      ]
     },
     "metadata": {
      "needs_background": "light"
     },
     "output_type": "display_data"
    }
   ],
   "source": [
    "res2.plot()"
   ]
  }
 ],
 "metadata": {
  "kernelspec": {
   "display_name": "Python 3",
   "language": "python",
   "name": "python3"
  },
  "language_info": {
   "codemirror_mode": {
    "name": "ipython",
    "version": 3
   },
   "file_extension": ".py",
   "mimetype": "text/x-python",
   "name": "python",
   "nbconvert_exporter": "python",
   "pygments_lexer": "ipython3",
   "version": "3.7.4"
  }
 },
 "nbformat": 4,
 "nbformat_minor": 4
}
